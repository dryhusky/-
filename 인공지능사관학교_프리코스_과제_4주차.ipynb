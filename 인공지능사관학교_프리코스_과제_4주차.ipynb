{
  "nbformat": 4,
  "nbformat_minor": 0,
  "metadata": {
    "colab": {
      "name": "인공지능사관학교 프리코스 과제 4주차.ipynb",
      "provenance": [],
      "collapsed_sections": [],
      "authorship_tag": "ABX9TyOzkWkSpUCh8d05MbkZiB+t",
      "include_colab_link": true
    },
    "kernelspec": {
      "name": "python3",
      "display_name": "Python 3"
    }
  },
  "cells": [
    {
      "cell_type": "markdown",
      "metadata": {
        "id": "view-in-github",
        "colab_type": "text"
      },
      "source": [
        "<a href=\"https://colab.research.google.com/github/dryhusky/-/blob/master/%EC%9D%B8%EA%B3%B5%EC%A7%80%EB%8A%A5%EC%82%AC%EA%B4%80%ED%95%99%EA%B5%90_%ED%94%84%EB%A6%AC%EC%BD%94%EC%8A%A4_%EA%B3%BC%EC%A0%9C_4%EC%A3%BC%EC%B0%A8.ipynb\" target=\"_parent\"><img src=\"https://colab.research.google.com/assets/colab-badge.svg\" alt=\"Open In Colab\"/></a>"
      ]
    },
    {
      "cell_type": "markdown",
      "metadata": {
        "id": "wxkL6PjwsI6L",
        "colab_type": "text"
      },
      "source": [
        "# 4주차 과제\n",
        "- 용어 정리\n",
        "- 딥러닝 강의 클론 코딩\n",
        "- 딥러닝 순전파 & 역전파 계산"
      ]
    },
    {
      "cell_type": "markdown",
      "metadata": {
        "id": "ixEtDe6_uGgI",
        "colab_type": "text"
      },
      "source": [
        "## 1. 용어 정리\n",
        "\n",
        "다음 제시된 단어의 정의(설명)를 정리하여 작성 하세요.\n",
        "\n",
        "* 2문장 이상 작성 해 주세요. \n",
        "* 주제(단어)와 크게 벗어나지만 않는다면 정답처리 됩니다.\n",
        "* 강의 뿐 아니라 기타 레퍼런스를 참고하여 작성하셔도 됩니다. (기타 레퍼런스를 참고하신 경우, 해당 레퍼런스를 정리하여 하단에 작성해 주세요.)\n"
      ]
    },
    {
      "cell_type": "markdown",
      "metadata": {
        "id": "0lfwat8eurKZ",
        "colab_type": "text"
      },
      "source": [
        "__(예시)__\n",
        "### 심층 신경망\n",
        ": 입력층과 출력층 사이에 여러 개의 은닉층들로 이뤄진 인공신경망이다. 심층 신경망은 일반적으로 인공신경망과 마찬가지로 복잡한 비선형 관계들을 모델링 할 수 있다. 신층신경망의 목적은 분류 및 수치예측을 하기 위함이고 이미지 트레이닝이나 문자인식과 같은 분야에서 매우 유용하게 쓰이고 있다."
      ]
    },
    {
      "cell_type": "markdown",
      "metadata": {
        "id": "Y8YJNKG_v65A",
        "colab_type": "text"
      },
      "source": [
        "### MCP 뉴런\n",
        ":\n",
        "\n",
        "### 퍼셉트론\n",
        ":블랭크 로젠 블렛이 뉴런을 기반으로 생각해냄. 자동으로 최적의 가중치를 계산하는 알고리즘이다. 여기서 가중치는 뉴런의 출력 신호를 낼지 말지를 결정하기 위해 입력 특성에 곱하는 계수가 된다. 입력받아 계산한 값이 특정 임계값을 넘으면 값을 반환하는 구조로 짜여져있으며, 학습이 될 수록 가중치 값이 변경되며 좋은 가중치를 얻어 원하는 출력을 얻게끔 학습한다.\n",
        "\n",
        "### 역전파\n",
        ":뉴런의 가중치를 효율적으로 조정하기 위하여, 거꾸로 무엇인가를 전파하는 방식 가중치와 편향이 중요\n",
        "아래 3번 이미지를 참고하여 설명 \n",
        "활성화 함수가 따로 없으므로 은닉층의 첫번째 노드는 (2 * 1)+(1 * 1)=3 출력층의 첫번째 노드는 (3 * 1)+(1 * 1)=4 (2:가중치, 1:편향,1:편향,1:가중치)\n",
        "\n",
        "현재 출력값이 기대 출력값과 맞지 않음( 3 != 4 )\n",
        "\n",
        "기대 출력값과 현재 출력값의 오차는 1\n",
        "\n",
        "이렇게 되면 (편향은 건드리지 않고,) 가중치를 변경하여 기대 출력값을 현재 출력값에 맞춰 나간다.\n",
        "\n",
        "이 전의 가중치 값이 옳지 않으므로 그 전의 출력값이 가장 큰 영향을 주었으니 해당 값을 지움. 또 그 전이 나오게 된 값의 가중치를 보는데, 가중치가 큰 값이 더 큰 영향을 주었으므로 영향을 크게 준것에 더 큰 조정을 해준다.(예시로학습률(가중치 조정을 위한 하이퍼파라미터를 0.1로 가정하고) 은닉층의 1번 노드에는 기존 가중치 1에서 0.3을 빼고, 은닉층 2번 노드에는 기존 가중치 1에서 0.1을 빼줌 그러면 은닉층에 전파할 값을 0.4을 빼줌. 3-> 2.6)\n",
        "\n",
        "입력층에도 가중치를 가지고 계산한 값을 그 전의 값을 참고해 가중치를 변경해준다.\n",
        "\n",
        "이제 편향을 가지고 새로운 가중치로 역전파를 계산해준다.\n",
        "\n",
        "### 강화학습\n",
        ":에이전트가 많은 보상을 받기 위해 최적의 정책을 찾기 위해서 많은 학습을 하게 된다. 여기에는 활용과 탐색이라는 방법이 나오는데 강화학습에서는 두개를 사용할 수 없기때문에 좋은 정책을 잘 채택해야한다.\n",
        "\n",
        "### 과적합\n",
        "1. 오버피딩문제(과적합): 트레이닝셋은 떨어지는데 발릴레이션이 떨어지지 않는경우, 너무 트레이닝셋에 맞춰서 학습되어져서 새로운 데이터에는 맞지않게 되었음 : 모델이 많고 데이터가 적음 \n",
        "2. 언더피딩문제: 트레이닝셋이 학습을 해도 로스값이 내려가지 않음, 마찬가지로 발릴레이션이나 테스트 셋도 떨어지지 않음.: 모델이 적고 데이터는 많은경우 패턴이 없는경우, 학습이 어려운경우, \n",
        "3. 발릴레이션이 u자형으로 내려갔다가 올라가는 경우도 생기는데, 이 경우는 가장 낮은 가중치 값을 기억해놓기때문에 문제되진 않음. (u자로 다시 올라가는 부분에서는 오버피딩이 일어남)\n",
        "* 학교 수업의 일부를 발췌\n",
        "\n",
        "### 차원의 저주\n",
        ": 데이터 학습을 위한 차원이 증가하면서 학습데이터 수가 차원의 수보다 적어져 성능이 저하되는 현상이라 한다. 차원이 증가할 수록 개별 차원 내 학습할 데이터 수가 적어지는 현상이 발생하는데,\n",
        "이를 위해서 차원을 줄이거나(차원 축소), 데이터를 많이 획득시켜 해결해준다.\n",
        "*https://datapedia.tistory.com/15\n",
        "\n",
        "\n",
        "\n",
        "\n"
      ]
    },
    {
      "cell_type": "markdown",
      "metadata": {
        "id": "d-zfFXLCy6jD",
        "colab_type": "text"
      },
      "source": [
        "## 2. 딥러닝 강의 클론 코딩\n",
        "\n",
        "####__퍼셉트론 구조 구현하기__ \n",
        "딥러닝 강의(__딥러닝 원리[1] 3:15 ~ 5:15 부분__)를 보고 코드를 따라 치며 출력 결과를 만드세요.\n",
        " \n",
        "\n",
        "* 하나의 코드셀에 해당 코드를 한번에 다 적어서 실행해주세요 (__그렇게 하지 않을 경우, 아래 이미지와 같은 출력값이 나오지 않을 수 있습니다__)\n",
        "\n",
        "*__주의!__ 실제로 코딩해서 출력해보면 강의에 나온 출력 결과와 다르게 나옵니다!!\n"
      ]
    },
    {
      "cell_type": "markdown",
      "metadata": {
        "id": "wcc5mzI9oZ7r",
        "colab_type": "text"
      },
      "source": [
        "![대체 텍스트](https://www.notion.so/image/https%3A%2F%2Fs3-us-west-2.amazonaws.com%2Fsecure.notion-static.com%2F0cceeed0-0235-4b0f-af88-0b8c377d5b4b%2F_2020-06-09__9.35.23.png?table=block&id=88fd8912-9356-49a4-9fda-a1a63fe96ea9&width=2870&cache=v2)"
      ]
    },
    {
      "cell_type": "code",
      "metadata": {
        "id": "OrnPevk3fETH",
        "colab_type": "code",
        "colab": {
          "base_uri": "https://localhost:8080/",
          "height": 212
        },
        "outputId": "50c0bc90-ef18-4dad-c997-96ec5c7226c9"
      },
      "source": [
        "import tensorflow as tf\n",
        "tf.compat.v1.set_random_seed(2020)\n",
        "x = 1 # 입력값,, 예시) 만약 0으로 했을 경우 학습횟수를 1000번으로 많이 늘릴 때 예측 결과 값이 0.5에서 멈추게 됨. 이러한 경우를 방지하고자 편향이라는 개념이 등장,,  (편향: 한쪽으로 치우쳐진 고정값. why? 0 인경우 아무것도 학습하지 못하는 경우를 방지해줌) \n",
        "y = 0 # 원하는 출력값\n",
        "w = tf.random.normal([1],0,1)  # 가중치는 정규분포의 무작위 값을 설정\n",
        "\n",
        "import math#시그모이드 활설화 함수\n",
        "def sigmoid(x):\n",
        "  return 1/(1+math.exp(-x))\n",
        "\n",
        "output = sigmoid(x*w)\n",
        "print(output)\n",
        "\n",
        "for i in range(1000):\n",
        "  output = sigmoid(x*w)\n",
        "  error = y - output   # error = 0(기대출력) - 0.474...(실제출력)\n",
        "  w = w+x*0.1*error # 경사 하강법     ->   w= w+ x * (학습률) * error\n",
        "                                                    # 학습률: 가중치 조정을 위한 하이퍼파라미터\n",
        "  if i % 100 == 99:\n",
        "    print(\"학습 횟수:\",i,\"Error:\",error,\"예측 결과:\", output)"
      ],
      "execution_count": 3,
      "outputs": [
        {
          "output_type": "stream",
          "text": [
            "0.47477188589261\n",
            "학습 횟수: 99 Error: -0.10010598284299604 예측 결과: 0.10010598284299604\n",
            "학습 횟수: 199 Error: -0.05178399422833116 예측 결과: 0.05178399422833116\n",
            "학습 횟수: 299 Error: -0.034590451977903586 예측 결과: 0.034590451977903586\n",
            "학습 횟수: 399 Error: -0.02588962752851373 예측 결과: 0.02588962752851373\n",
            "학습 횟수: 499 Error: -0.020658699939863617 예측 결과: 0.020658699939863617\n",
            "학습 횟수: 599 Error: -0.017174253993457355 예측 결과: 0.017174253993457355\n",
            "학습 횟수: 699 Error: -0.014689506449480992 예측 결과: 0.014689506449480992\n",
            "학습 횟수: 799 Error: -0.012829497265431342 예측 결과: 0.012829497265431342\n",
            "학습 횟수: 899 Error: -0.011385568271837804 예측 결과: 0.011385568271837804\n",
            "학습 횟수: 999 Error: -0.010232493309882492 예측 결과: 0.010232493309882492\n"
          ],
          "name": "stdout"
        }
      ]
    },
    {
      "cell_type": "markdown",
      "metadata": {
        "id": "kr0HVRk8fOom",
        "colab_type": "text"
      },
      "source": [
        "## 3. 딥러닝 순전파 & 역전파 계산\n",
        "\n",
        "딥러닝 강의(__딥러닝 원리[2] 0:55 ~ 4:32 부분__)에 나오는 순전파 & 역전파 계산에 대한 문제 입니다.\n",
        "\n",
        "해당 영상과 다음 이미지를 참고하여 다음 2가지 물음에 답하세요.\n",
        "\n",
        "\n",
        "(1) 학습률이 0.2 일 경우 출력층의 노드값\n",
        "\n",
        "(2) 학습률이 0.1과 0.2 중 기대출력값이 지도데이터 \"3\"과 더 가까운 학습률은?"
      ]
    },
    {
      "cell_type": "markdown",
      "metadata": {
        "id": "CpwPFWhOUzww",
        "colab_type": "text"
      },
      "source": [
        "![대체 텍스트](https://www.notion.so/image/https%3A%2F%2Fs3-us-west-2.amazonaws.com%2Fsecure.notion-static.com%2Ff54dfd45-92ec-44ae-9616-6949d2484a45%2F_2020-06-10__5.22.03.png?table=block&id=ee05da89-3ceb-4ad9-a2d3-c9f68d24d1d9&width=3580&cache=v2)"
      ]
    },
    {
      "cell_type": "markdown",
      "metadata": {
        "id": "B2OVY7w5U3CI",
        "colab_type": "text"
      },
      "source": [
        "## (1) 학습률이 0.2 일 경우 출력층의 노드값 : 2.72\n",
        "## (2) 학습률이 0.1과 0.2 중 기대출력값이 지도데이터 \"3\"과 더 가까운 학습률은:  0.2"
      ]
    },
    {
      "cell_type": "code",
      "metadata": {
        "id": "BgavfvqiWxBU",
        "colab_type": "code",
        "colab": {}
      },
      "source": [
        ""
      ],
      "execution_count": null,
      "outputs": []
    }
  ]
}