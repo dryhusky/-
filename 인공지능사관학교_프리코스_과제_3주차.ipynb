{
  "nbformat": 4,
  "nbformat_minor": 0,
  "metadata": {
    "colab": {
      "name": "인공지능사관학교 프리코스 과제 3주차.ipynb",
      "provenance": [],
      "collapsed_sections": [],
      "authorship_tag": "ABX9TyM97Q2DmsxfJ1n9zWepK2iU",
      "include_colab_link": true
    },
    "kernelspec": {
      "name": "python3",
      "display_name": "Python 3"
    }
  },
  "cells": [
    {
      "cell_type": "markdown",
      "metadata": {
        "id": "view-in-github",
        "colab_type": "text"
      },
      "source": [
        "<a href=\"https://colab.research.google.com/github/dryhusky/-/blob/master/%EC%9D%B8%EA%B3%B5%EC%A7%80%EB%8A%A5%EC%82%AC%EA%B4%80%ED%95%99%EA%B5%90_%ED%94%84%EB%A6%AC%EC%BD%94%EC%8A%A4_%EA%B3%BC%EC%A0%9C_3%EC%A3%BC%EC%B0%A8.ipynb\" target=\"_parent\"><img src=\"https://colab.research.google.com/assets/colab-badge.svg\" alt=\"Open In Colab\"/></a>"
      ]
    },
    {
      "cell_type": "markdown",
      "metadata": {
        "id": "YbgBvQ6DjxMm",
        "colab_type": "text"
      },
      "source": [
        "# 3주차 과제\n",
        "- 학습률 최적화\n",
        "- 군집 분석(병합 계층 군집) 구현 클론 코딩\n",
        "- Cost function 구현"
      ]
    },
    {
      "cell_type": "markdown",
      "metadata": {
        "id": "evbG1BaNI1qd",
        "colab_type": "text"
      },
      "source": [
        "## 1. 학습률 최적화"
      ]
    },
    {
      "cell_type": "markdown",
      "metadata": {
        "id": "rqvqy18tI5Q5",
        "colab_type": "text"
      },
      "source": [
        "간단한 예제를 통해 학습률 최적화의 중요성에 대해서 확인 해 보도록 하겠습니다.\n",
        "\n",
        "아래 링크에서 __1단계만__에 손실 곡선의 최저점에 도달하게 하는 학습률을 찾아 정답을 적어주세요\n",
        "\n",
        "링크: https://developers.google.com/machine-learning/crash-course/fitter/graph?hl=ko"
      ]
    },
    {
      "cell_type": "markdown",
      "metadata": {
        "id": "HKdQdHs3Sax-",
        "colab_type": "text"
      },
      "source": [
        "### 정답 : 1.60"
      ]
    },
    {
      "cell_type": "markdown",
      "metadata": {
        "id": "zBuhqFe3SjKX",
        "colab_type": "text"
      },
      "source": [
        "## 2. 군집 분석(병합 계층 군집) 구현 클론 코딩"
      ]
    },
    {
      "cell_type": "markdown",
      "metadata": {
        "id": "SEuHj4ps1vcp",
        "colab_type": "text"
      },
      "source": [
        "군집 분석 강의(군집문제[2] 3:10 ~ 5:20 부분)를 보고 코드를 따라 치며 출력 결과(과제 설명 페이지 참고)를 만드세요. \n",
        "\n",
        "강의에서는 데이터 시각화까지 진행하지만 \n",
        "과제에서는 표를 출력하는 것 까지만 하시면 됩니다.\n",
        "\n",
        "3주차 과제 안내 페이지를 보시면 표에 대한 이미지가 있습니다. 참고해주세요"
      ]
    },
    {
      "cell_type": "code",
      "metadata": {
        "id": "JN1YPCENSphW",
        "colab_type": "code",
        "colab": {}
      },
      "source": [
        "import numpy as np\n",
        "np.random.seed(123) # 무작위함수\n",
        "X = np.random.random_sample([5,3])*10#5,3행열을 만들고 원소는 0~9까지"
      ],
      "execution_count": 1,
      "outputs": []
    },
    {
      "cell_type": "code",
      "metadata": {
        "id": "ck00pZqZL9pD",
        "colab_type": "code",
        "colab": {}
      },
      "source": [
        "import pandas as pd\n",
        "variables = ['X','Y','Z']\n",
        "labels = ['ID_0','ID_1','ID_2','ID_3','ID_4']\n",
        "df = pd.DataFrame(X,columns=variables,index=labels)\n",
        "df\n",
        "#모든 데이터의 거리행ㅇ렬을 계산하기"
      ],
      "execution_count": null,
      "outputs": []
    },
    {
      "cell_type": "code",
      "metadata": {
        "id": "hyvbmwgET-NN",
        "colab_type": "code",
        "colab": {}
      },
      "source": [
        "from scipy.spatial.distance import pdist, squareform"
      ],
      "execution_count": 4,
      "outputs": []
    },
    {
      "cell_type": "code",
      "metadata": {
        "id": "UOwBydCEUM91",
        "colab_type": "code",
        "colab": {
          "base_uri": "https://localhost:8080/",
          "height": 52
        },
        "outputId": "1506d0d5-cd08-4e93-9389-8c2718afd3f0"
      },
      "source": [
        "Y=pdist(df) # pdist() 축약된 거리 행렬\n",
        "Y"
      ],
      "execution_count": 6,
      "outputs": [
        {
          "output_type": "execute_result",
          "data": {
            "text/plain": [
              "array([4.973534  , 5.51665266, 5.89988504, 3.83539555, 4.34707339,\n",
              "       5.10431109, 6.69823298, 7.24426159, 8.31659367, 4.382864  ])"
            ]
          },
          "metadata": {
            "tags": []
          },
          "execution_count": 6
        }
      ]
    },
    {
      "cell_type": "code",
      "metadata": {
        "id": "FgTTyITRURVZ",
        "colab_type": "code",
        "colab": {}
      },
      "source": [
        "row_dist = pd.DataFrame(squareform(pdist(df,metric='euclidean')), \n",
        "                        columns = labels, index=labels)\n",
        "#squareform() 거리행렬 벡터를 행렬형식으로 변환\n"
      ],
      "execution_count": 11,
      "outputs": []
    },
    {
      "cell_type": "code",
      "metadata": {
        "id": "_6lsTR0GUwvF",
        "colab_type": "code",
        "colab": {}
      },
      "source": [
        "#완전연결 병합방식을 적용하기 위해 아래 함수 호출\n",
        "from scipy.cluster.hierarchy import linkage\n",
        "#pdist함수에서 축약된 거리 행렬을 입력속성으로 사용.\n",
        "#linkge함수에서 초기 데이터ㅓ 배열을 전달하고 'euclidean'지표를 매개변수로 사용.\n"
      ],
      "execution_count": 13,
      "outputs": []
    },
    {
      "cell_type": "code",
      "metadata": {
        "id": "TL9sImxQVrEQ",
        "colab_type": "code",
        "colab": {}
      },
      "source": [
        "row_clusters = linkage(pdist(df, metric='euclidean'),method='complete')"
      ],
      "execution_count": 14,
      "outputs": []
    },
    {
      "cell_type": "code",
      "metadata": {
        "id": "7Ni6s-pCVrj6",
        "colab_type": "code",
        "colab": {
          "base_uri": "https://localhost:8080/",
          "height": 166
        },
        "outputId": "f9183fbc-f44b-4c44-b562-cedcf4e46f50"
      },
      "source": [
        "#군집결과를 자세하게 보기 위해 군집결과를 판다스 데이터프레임 형식으로 변환\n",
        "pd.DataFrame(row_clusters, columns=['row label 1','row label 2','distance','no. of items in clust.'],\n",
        "             index = ['cluster % d' %(i+1) for i in range(row_clusters.shape[0])])"
      ],
      "execution_count": 15,
      "outputs": [
        {
          "output_type": "execute_result",
          "data": {
            "text/html": [
              "<div>\n",
              "<style scoped>\n",
              "    .dataframe tbody tr th:only-of-type {\n",
              "        vertical-align: middle;\n",
              "    }\n",
              "\n",
              "    .dataframe tbody tr th {\n",
              "        vertical-align: top;\n",
              "    }\n",
              "\n",
              "    .dataframe thead th {\n",
              "        text-align: right;\n",
              "    }\n",
              "</style>\n",
              "<table border=\"1\" class=\"dataframe\">\n",
              "  <thead>\n",
              "    <tr style=\"text-align: right;\">\n",
              "      <th></th>\n",
              "      <th>row label 1</th>\n",
              "      <th>row label 2</th>\n",
              "      <th>distance</th>\n",
              "      <th>no. of items in clust.</th>\n",
              "    </tr>\n",
              "  </thead>\n",
              "  <tbody>\n",
              "    <tr>\n",
              "      <th>cluster  1</th>\n",
              "      <td>0.0</td>\n",
              "      <td>4.0</td>\n",
              "      <td>3.835396</td>\n",
              "      <td>2.0</td>\n",
              "    </tr>\n",
              "    <tr>\n",
              "      <th>cluster  2</th>\n",
              "      <td>1.0</td>\n",
              "      <td>2.0</td>\n",
              "      <td>4.347073</td>\n",
              "      <td>2.0</td>\n",
              "    </tr>\n",
              "    <tr>\n",
              "      <th>cluster  3</th>\n",
              "      <td>3.0</td>\n",
              "      <td>5.0</td>\n",
              "      <td>5.899885</td>\n",
              "      <td>3.0</td>\n",
              "    </tr>\n",
              "    <tr>\n",
              "      <th>cluster  4</th>\n",
              "      <td>6.0</td>\n",
              "      <td>7.0</td>\n",
              "      <td>8.316594</td>\n",
              "      <td>5.0</td>\n",
              "    </tr>\n",
              "  </tbody>\n",
              "</table>\n",
              "</div>"
            ],
            "text/plain": [
              "            row label 1  row label 2  distance  no. of items in clust.\n",
              "cluster  1          0.0          4.0  3.835396                     2.0\n",
              "cluster  2          1.0          2.0  4.347073                     2.0\n",
              "cluster  3          3.0          5.0  5.899885                     3.0\n",
              "cluster  4          6.0          7.0  8.316594                     5.0"
            ]
          },
          "metadata": {
            "tags": []
          },
          "execution_count": 15
        }
      ]
    },
    {
      "cell_type": "markdown",
      "metadata": {
        "id": "3A57ycqltuON",
        "colab_type": "text"
      },
      "source": [
        "## 3. Cost function 구현\n",
        "## $$cost(W) =  \\frac{1}{n}\\sum_{i=1}^n (Wx^{(i)}-y^{(i)})^2$$"
      ]
    },
    {
      "cell_type": "markdown",
      "metadata": {
        "id": "LS7Qtqm14hg-",
        "colab_type": "text"
      },
      "source": [
        "### 데이터(X, Y)"
      ]
    },
    {
      "cell_type": "code",
      "metadata": {
        "id": "iKpEGob-4EbZ",
        "colab_type": "code",
        "colab": {}
      },
      "source": [
        "# 제공된 데이터는 변경 할 수 없습니다.\n",
        "x = [1, 2, 3]\n",
        "y = [2, 4, 6]\n"
      ],
      "execution_count": 30,
      "outputs": []
    },
    {
      "cell_type": "markdown",
      "metadata": {
        "id": "AWaFS6a54vCL",
        "colab_type": "text"
      },
      "source": [
        "### cost function을 파이썬으로 구현하세요.\n",
        "pass를 지우고 cost_func 함수를 완성하세요.\n",
        "\n",
        "가중치(Weight)를 입력하면 코스트(cost)를 계산하는 함수를 만드는게 목적입니다."
      ]
    },
    {
      "cell_type": "code",
      "metadata": {
        "id": "LT3q8ACK4ezT",
        "colab_type": "code",
        "colab": {
          "base_uri": "https://localhost:8080/",
          "height": 52
        },
        "outputId": "b5ea7db9-a1ab-4ab8-cc94-5d4aae922689"
      },
      "source": [
        "# W(가중치) 데이터 타입 -> int or float\n",
        "# x(학습 데이터) 데이터 타입 -> list\n",
        "# y(정답 데이터) 데이터 타입 -> list\n",
        "# cost_func 함수 리턴값 타입 -> float\n",
        "# cost_func 함수 리턴값 = cost 값\n",
        "# W:가중치, x:학습 데이터 y:정답 데이터\n",
        "\n",
        "W=int(input('가중치를 입력:'))\n",
        "\n",
        "def cost_func(W, x, y):\n",
        "  #x,y의 리스트 행이 같다고 가정\n",
        "  result=0.0\n",
        "  n=len(x)\n",
        "  for i in range(n):\n",
        "    sample=(W*x[i]-y[i])\n",
        "    result+=sample*sample\n",
        "  result=result/n\n",
        "  return result\n",
        "\n",
        "cost_func(W,x,y)"
      ],
      "execution_count": 33,
      "outputs": [
        {
          "output_type": "stream",
          "text": [
            "가중치를 입력:5\n"
          ],
          "name": "stdout"
        },
        {
          "output_type": "execute_result",
          "data": {
            "text/plain": [
              "42.0"
            ]
          },
          "metadata": {
            "tags": []
          },
          "execution_count": 33
        }
      ]
    },
    {
      "cell_type": "markdown",
      "metadata": {
        "id": "lP20Ia-Reb49",
        "colab_type": "text"
      },
      "source": [
        "예시) x가 [1, 2] 이고 y가 [3, 6] 그리고 W가 4 일 경우  cost_func(W, x, y)함수의 리턴값은 2.5"
      ]
    },
    {
      "cell_type": "markdown",
      "metadata": {
        "id": "x4DoGgO9uZi2",
        "colab_type": "text"
      },
      "source": [
        "### cost_func을 활용하여 웨이트(Weight)가 -5부터 5까지의 변화에 따른 코스트(cost)를 출력 해주세요."
      ]
    },
    {
      "cell_type": "code",
      "metadata": {
        "id": "3XfP0-zIXQF6",
        "colab_type": "code",
        "colab": {
          "base_uri": "https://localhost:8080/",
          "height": 210
        },
        "outputId": "e3b8ef7a-96b7-43ad-daa4-c02334ea8126"
      },
      "source": [
        "# 여기 코드셀은 변경하지 마세요.\n",
        "# 완성된 함수를 확인하는 과정으로 해당 코드셀을 실행해서 정상 출력되면 정답!\n",
        "# 주의! 에러가 날 경우 데이터 코드셀과 cost function 코드셀을 실행했는지 확인해주세요.\n",
        "for feed_W in range(-5, 6, 1):\n",
        "  curr_cost = cost_func(feed_W, x, y)\n",
        "  print(\"{:6.3f} | {:10.5f}\".format(feed_W, curr_cost))"
      ],
      "execution_count": 32,
      "outputs": [
        {
          "output_type": "stream",
          "text": [
            "-5.000 |  228.66667\n",
            "-4.000 |  168.00000\n",
            "-3.000 |  116.66667\n",
            "-2.000 |   74.66667\n",
            "-1.000 |   42.00000\n",
            " 0.000 |   18.66667\n",
            " 1.000 |    4.66667\n",
            " 2.000 |    0.00000\n",
            " 3.000 |    4.66667\n",
            " 4.000 |   18.66667\n",
            " 5.000 |   42.00000\n"
          ],
          "name": "stdout"
        }
      ]
    }
  ]
}